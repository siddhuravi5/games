
   "source": [
    "import sys\n",
    "from numpy import *\n",
    "class tic_tae_toe:\n",
    "    mat=array([['_','_','_'],['_','_','_'],['_','_','_']])\n",
    "    def __init__(self,name,name1):\n",
    "        self.name=name\n",
    "        self.name1=name1\n",
    "    def disp(self):\n",
    "        for i in range(0,3,1):\n",
    "            for j in range(0,3,1):\n",
    "               print(self.mat[i][j],end=\" \")\n",
    "            print()\n",
    "        print()\n",
    "        print()\n",
    "    def draw(self):\n",
    "        print(\"game ended as draw\")\n",
    "        sys.exit()\n",
    "    def result(self,i):\n",
    "        if i == '#':\n",
    "            print(self.name + \" is the winner\")\n",
    "            sys.exit()\n",
    "        else:\n",
    "            print(self.name1 + \"%s is the winner\")\n",
    "            sys.exit()\n",
    "    def check(self):\n",
    "        if (self.mat[0][0]=='#' and self.mat[0][1]=='#' and self.mat[0][2]=='#') or (self.mat[1][0]=='#' and self.mat[1][1]=='#' and self.mat[1][2]=='#') or (self.mat[2][0]=='#' and self.mat[2][1]=='#' and self.mat[2][2]=='#') or (self.mat[0][0]=='#' and self.mat[1][0]=='#' and self.mat[2][0]=='#') or (self.mat[0][1]=='#' and self.mat[1][1]=='#' and self.mat[2][1]=='#') or(self.mat[0][2]=='#' and self.mat[1][2]=='#' and self.mat[2][2]=='#') or (self.mat[0][2]=='#' and self.mat[1][1]=='#' and self.mat[2][0]=='#') or (self.mat[0][0]=='#' and self.mat[1][1]=='#' and self.mat[2][2]=='#') :\n",
    "            self.disp()\n",
    "            self.result('#') \n",
    "        elif(self.mat[0][0]=='0' and self.mat[0][1]=='0' and self.mat[0][2]=='0') or (self.mat[1][0]=='0' and self.mat[1][1]=='0' and self.mat[1][2]=='0') or (self.mat[2][0]=='0' and self.mat[2][1]=='0' and self.mat[2][2]=='0') or (self.mat[0][0]=='0' and self.mat[1][0]=='0' and self.mat[2][0]=='0') or (self.mat[0][1]=='0' and self.mat[1][1]=='0' and self.mat[2][1]=='0') or(self.mat[0][2]=='0' and self.mat[1][2]=='0' and self.mat[2][2]=='0') or (self.mat[0][2]=='0' and self.mat[1][1]=='0' and self.mat[2][0]=='0') or (self.mat[0][0]=='0' and self.mat[1][1]=='0' and self.mat[2][2]=='0'):  \n",
    "            self.disp()\n",
    "            self.result('0')\n",
    "        elif self.mat[0][0]!='_' and self.mat[0][1]!='_' and self.mat[0][2]!='_' and self.mat[1][0]!='_' and self.mat[1][1]!='_' and self.mat[1][2]!='_' and self.mat[2][0]!='_' and self.mat[2][1]!='_' and self.mat[2][2]!='_' :\n",
    "            self.disp()\n",
    "            self.draw()\n",
    "    def game(self):\n",
    "        self.disp()\n",
    "        a=int(input(\"choose the index: \" + self.name))\n",
    "        if a<4:\n",
    "            self.mat[0][a-1]='#'\n",
    "        elif(a<7):\n",
    "            self.mat[1][a-4]='#'\n",
    "        else:\n",
    "            self.mat[2][a-7]='#'\n",
    "        #n=n+1\n",
    "        self.check()\n",
    "        self.disp()\n",
    "        a=int(input(\"choose the index: \" + self.name1))\n",
    "        if a<4:\n",
    "            self.mat[0][a-1]='0'\n",
    "        elif(a<7):\n",
    "            self.mat[1][a-4]='0'\n",
    "        else:\n",
    "            self.mat[2][a-7]='0'\n",
    "            print()\n",
    "        #n=n+1\n",
    "        self.check()\n",
    "        self.game()\n",
    "play=tic_tae_toe(input(\"player1 name\"),input(\"player2 name\"))\n",
    "play.game()        "
   ]
  },
  {
   "cell_type": "markdown",
   "metadata": {},
   "source": []
  },
  {
   "cell_type": "code",
   "execution_count": null,
   "metadata": {},
   "outputs": [],
   "source": []
  }
 ],
 "metadata": {
  "kernelspec": {
   "display_name": "Python 3",
   "language": "python",
   "name": "python3"
  },
  "language_info": {
   "codemirror_mode": {
    "name": "ipython",
    "version": 3
   },
   "file_extension": ".py",
   "mimetype": "text/x-python",
   "name": "python",
   "nbconvert_exporter": "python",
   "pygments_lexer": "ipython3",
   "version": "3.7.3"
  }
 },
 "nbformat": 4,
 "nbformat_minor": 2
}
